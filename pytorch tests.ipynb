{
  "nbformat": 4,
  "nbformat_minor": 0,
  "metadata": {
    "colab": {
      "provenance": [],
      "authorship_tag": "ABX9TyP2SNSTHgyM8id8OYSct6hG",
      "include_colab_link": true
    },
    "kernelspec": {
      "name": "python3",
      "display_name": "Python 3"
    },
    "language_info": {
      "name": "python"
    }
  },
  "cells": [
    {
      "cell_type": "markdown",
      "metadata": {
        "id": "view-in-github",
        "colab_type": "text"
      },
      "source": [
        "<a href=\"https://colab.research.google.com/github/saketthakur001/Audible-Search/blob/main/pytorch%20tests.ipynb\" target=\"_parent\"><img src=\"https://colab.research.google.com/assets/colab-badge.svg\" alt=\"Open In Colab\"/></a>"
      ]
    },
    {
      "cell_type": "code",
      "execution_count": null,
      "metadata": {
        "id": "kIshhwQZ8pWg"
      },
      "outputs": [],
      "source": [
        "import torch\n",
        "import numpy as np\n",
        "import pandas as pd"
      ]
    },
    {
      "cell_type": "code",
      "source": [
        "print(torch.__version__)"
      ],
      "metadata": {
        "colab": {
          "base_uri": "https://localhost:8080/"
        },
        "id": "WaRMusQn8_BL",
        "outputId": "a3fb33b7-c1c3-4d41-81db-2e2ddeec97ad"
      },
      "execution_count": null,
      "outputs": [
        {
          "output_type": "stream",
          "name": "stdout",
          "text": [
            "2.3.1+cu121\n"
          ]
        }
      ]
    },
    {
      "cell_type": "code",
      "source": [
        "# scalar tensor\n",
        "scaler = torch.tensor(7)\n",
        "scaler"
      ],
      "metadata": {
        "colab": {
          "base_uri": "https://localhost:8080/"
        },
        "id": "W5_ntAYf9rwN",
        "outputId": "85516e96-91ab-49bc-d404-88fa475523f3"
      },
      "execution_count": null,
      "outputs": [
        {
          "output_type": "execute_result",
          "data": {
            "text/plain": [
              "tensor(7)"
            ]
          },
          "metadata": {},
          "execution_count": 4
        }
      ]
    },
    {
      "cell_type": "code",
      "source": [
        "vector = torch.tensor([7, 7])\n",
        "vector.shape\n"
      ],
      "metadata": {
        "colab": {
          "base_uri": "https://localhost:8080/"
        },
        "id": "3LCmIy8I-SRB",
        "outputId": "23b73d56-07b1-4abb-e607-53f357d12d1f"
      },
      "execution_count": null,
      "outputs": [
        {
          "output_type": "execute_result",
          "data": {
            "text/plain": [
              "torch.Size([2])"
            ]
          },
          "metadata": {},
          "execution_count": 5
        }
      ]
    },
    {
      "cell_type": "code",
      "source": [
        "MATRIX = torch.tensor([[7,8],[9,10]])\n",
        "MATRIX.ndim"
      ],
      "metadata": {
        "colab": {
          "base_uri": "https://localhost:8080/"
        },
        "id": "Hemu-LOZ-r5m",
        "outputId": "76b0adc7-4d25-4ff1-90c4-7209898b4097"
      },
      "execution_count": null,
      "outputs": [
        {
          "output_type": "execute_result",
          "data": {
            "text/plain": [
              "2"
            ]
          },
          "metadata": {},
          "execution_count": 6
        }
      ]
    },
    {
      "cell_type": "code",
      "source": [
        "MATRIX"
      ],
      "metadata": {
        "colab": {
          "base_uri": "https://localhost:8080/"
        },
        "id": "EBkV_7yL-7N8",
        "outputId": "c7c412c2-9725-4a5e-8878-18ccea5a1be3"
      },
      "execution_count": null,
      "outputs": [
        {
          "output_type": "execute_result",
          "data": {
            "text/plain": [
              "tensor([[ 7,  8],\n",
              "        [ 9, 10]])"
            ]
          },
          "metadata": {},
          "execution_count": 7
        }
      ]
    },
    {
      "cell_type": "code",
      "source": [
        "MATRIX.shape"
      ],
      "metadata": {
        "colab": {
          "base_uri": "https://localhost:8080/"
        },
        "id": "j9mYCOg2_CfN",
        "outputId": "3f0355be-4787-4cfb-f451-3f98b4c459bb"
      },
      "execution_count": null,
      "outputs": [
        {
          "output_type": "execute_result",
          "data": {
            "text/plain": [
              "torch.Size([2, 2])"
            ]
          },
          "metadata": {},
          "execution_count": 8
        }
      ]
    },
    {
      "cell_type": "code",
      "source": [
        "TENSOR = torch.tensor([[[[1, 2, 3], [2, 6, 9], [2, 4, 5]]]])\n",
        "TENSOR"
      ],
      "metadata": {
        "colab": {
          "base_uri": "https://localhost:8080/"
        },
        "id": "9-HM2GRj_F8h",
        "outputId": "4b14c14c-a60c-43c1-892d-93dd2b054d47"
      },
      "execution_count": null,
      "outputs": [
        {
          "output_type": "execute_result",
          "data": {
            "text/plain": [
              "tensor([[[[1, 2, 3],\n",
              "          [2, 6, 9],\n",
              "          [2, 4, 5]]]])"
            ]
          },
          "metadata": {},
          "execution_count": 9
        }
      ]
    },
    {
      "cell_type": "code",
      "source": [
        "TENSOR.ndim"
      ],
      "metadata": {
        "colab": {
          "base_uri": "https://localhost:8080/"
        },
        "id": "xh9P-a6Z_r01",
        "outputId": "1d0e9812-56e3-406f-b6f1-3a0d93631751"
      },
      "execution_count": null,
      "outputs": [
        {
          "output_type": "execute_result",
          "data": {
            "text/plain": [
              "4"
            ]
          },
          "metadata": {},
          "execution_count": 10
        }
      ]
    },
    {
      "cell_type": "code",
      "source": [
        "random_tensor = torch.rand(2, 2, 2, 2, 2, 2)\n",
        "# random_tensor"
      ],
      "metadata": {
        "id": "vTFX_TmnB_vR"
      },
      "execution_count": null,
      "outputs": []
    },
    {
      "cell_type": "code",
      "source": [
        "image_tensor = torch.rand(size=(3, 224, 224))\n",
        "image_tensor"
      ],
      "metadata": {
        "colab": {
          "base_uri": "https://localhost:8080/"
        },
        "id": "SBQFxJF7CG59",
        "outputId": "f1c95c74-69cd-411a-e99d-1f6ac0e75ec2"
      },
      "execution_count": null,
      "outputs": [
        {
          "output_type": "execute_result",
          "data": {
            "text/plain": [
              "tensor([[[0.1561, 0.5488, 0.6217,  ..., 0.7126, 0.5674, 0.7186],\n",
              "         [0.8018, 0.6585, 0.8393,  ..., 0.0551, 0.9234, 0.8510],\n",
              "         [0.1876, 0.7077, 0.0850,  ..., 0.6009, 0.8714, 0.8050],\n",
              "         ...,\n",
              "         [0.5933, 0.1938, 0.1908,  ..., 0.5434, 0.8094, 0.3997],\n",
              "         [0.2378, 0.8839, 0.2446,  ..., 0.3321, 0.0795, 0.6997],\n",
              "         [0.1931, 0.4010, 0.5051,  ..., 0.6617, 0.0993, 0.4226]],\n",
              "\n",
              "        [[0.3572, 0.1427, 0.4911,  ..., 0.8137, 0.3754, 0.6191],\n",
              "         [0.8280, 0.8308, 0.8637,  ..., 0.1180, 0.4802, 0.8391],\n",
              "         [0.4631, 0.5543, 0.8901,  ..., 0.2308, 0.4252, 0.3982],\n",
              "         ...,\n",
              "         [0.2003, 0.7589, 0.7169,  ..., 0.1822, 0.8152, 0.2498],\n",
              "         [0.6572, 0.5451, 0.1174,  ..., 0.1263, 0.3868, 0.4415],\n",
              "         [0.2310, 0.8553, 0.4027,  ..., 0.3978, 0.9435, 0.6486]],\n",
              "\n",
              "        [[0.6821, 0.4406, 0.3049,  ..., 0.9448, 0.0249, 0.6211],\n",
              "         [0.1081, 0.3061, 0.5296,  ..., 0.0778, 0.9340, 0.8074],\n",
              "         [0.6461, 0.5526, 0.7643,  ..., 0.1512, 0.1005, 0.0013],\n",
              "         ...,\n",
              "         [0.9572, 0.2876, 0.7922,  ..., 0.0423, 0.8948, 0.2138],\n",
              "         [0.3021, 0.7768, 0.4971,  ..., 0.3143, 0.4446, 0.6910],\n",
              "         [0.0134, 0.4137, 0.5312,  ..., 0.1781, 0.0142, 0.3005]]])"
            ]
          },
          "metadata": {},
          "execution_count": 12
        }
      ]
    },
    {
      "cell_type": "code",
      "source": [
        "zero = torch.zeros(size=(3, 4))\n",
        "zero"
      ],
      "metadata": {
        "colab": {
          "base_uri": "https://localhost:8080/"
        },
        "id": "AtH3FpDDE1xi",
        "outputId": "221486fb-c1c3-4ee7-ec1d-5680c0ae8b86"
      },
      "execution_count": null,
      "outputs": [
        {
          "output_type": "execute_result",
          "data": {
            "text/plain": [
              "tensor([[0., 0., 0., 0.],\n",
              "        [0., 0., 0., 0.],\n",
              "        [0., 0., 0., 0.]])"
            ]
          },
          "metadata": {},
          "execution_count": 13
        }
      ]
    },
    {
      "cell_type": "code",
      "source": [
        "torch.ones(size=(3, 4))"
      ],
      "metadata": {
        "colab": {
          "base_uri": "https://localhost:8080/"
        },
        "id": "B-D6knH8E6ZD",
        "outputId": "6702623b-4781-470e-f0bb-dadfad551e26"
      },
      "execution_count": null,
      "outputs": [
        {
          "output_type": "execute_result",
          "data": {
            "text/plain": [
              "tensor([[1., 1., 1., 1.],\n",
              "        [1., 1., 1., 1.],\n",
              "        [1., 1., 1., 1.]])"
            ]
          },
          "metadata": {},
          "execution_count": 14
        }
      ]
    },
    {
      "cell_type": "code",
      "source": [
        "spoom = torch.arange(0, 10000, 231)"
      ],
      "metadata": {
        "id": "ukkBR_7mFXIb"
      },
      "execution_count": null,
      "outputs": []
    },
    {
      "cell_type": "code",
      "source": [
        "torch.zeros_like(input=spoom)\n"
      ],
      "metadata": {
        "id": "tDRdf4_fITFc",
        "colab": {
          "base_uri": "https://localhost:8080/"
        },
        "outputId": "4a66547b-69a8-40eb-f8ab-00854325e117"
      },
      "execution_count": null,
      "outputs": [
        {
          "output_type": "execute_result",
          "data": {
            "text/plain": [
              "tensor([0, 0, 0, 0, 0, 0, 0, 0, 0, 0, 0, 0, 0, 0, 0, 0, 0, 0, 0, 0, 0, 0, 0, 0,\n",
              "        0, 0, 0, 0, 0, 0, 0, 0, 0, 0, 0, 0, 0, 0, 0, 0, 0, 0, 0, 0])"
            ]
          },
          "metadata": {},
          "execution_count": 16
        }
      ]
    },
    {
      "cell_type": "code",
      "source": [
        "# tensor datatypes\n",
        "float_32_tensor = torch.tensor([3.0, 6.0, 9.0],\n",
        "                               dtype=None,\n",
        "                               device=None,\n",
        "                               requires_grad=False\n",
        "                               )\n",
        "float_32_tensor"
      ],
      "metadata": {
        "colab": {
          "base_uri": "https://localhost:8080/"
        },
        "id": "TUWNUltVI7fJ",
        "outputId": "cf2a1df1-737f-42c6-f4d6-01e227f5adc6"
      },
      "execution_count": null,
      "outputs": [
        {
          "output_type": "execute_result",
          "data": {
            "text/plain": [
              "tensor([3., 6., 9.])"
            ]
          },
          "metadata": {},
          "execution_count": 17
        }
      ]
    },
    {
      "cell_type": "code",
      "source": [
        "float_16_tensor = float_32_tensor.type(torch.int64)\n",
        "float_16_tensor*float_32_tensor"
      ],
      "metadata": {
        "colab": {
          "base_uri": "https://localhost:8080/"
        },
        "id": "Q_H0VXsm03AC",
        "outputId": "9078840c-f731-4d25-9772-3e82eadf9c51"
      },
      "execution_count": null,
      "outputs": [
        {
          "output_type": "execute_result",
          "data": {
            "text/plain": [
              "tensor([ 9., 36., 81.])"
            ]
          },
          "metadata": {},
          "execution_count": 18
        }
      ]
    },
    {
      "cell_type": "code",
      "source": [
        "int_32 = torch.tensor([3, 6, 9], dtype=torch.int32)\n",
        "int_32"
      ],
      "metadata": {
        "colab": {
          "base_uri": "https://localhost:8080/"
        },
        "id": "Bt3Qhm1m2m3O",
        "outputId": "f105ffd7-2919-4563-ecff-12b627d0be25"
      },
      "execution_count": null,
      "outputs": [
        {
          "output_type": "execute_result",
          "data": {
            "text/plain": [
              "tensor([3, 6, 9], dtype=torch.int32)"
            ]
          },
          "metadata": {},
          "execution_count": 19
        }
      ]
    },
    {
      "cell_type": "code",
      "source": [
        "float_16_tensor*int_32"
      ],
      "metadata": {
        "colab": {
          "base_uri": "https://localhost:8080/"
        },
        "id": "5nUb2koH21gd",
        "outputId": "31fcf7a7-b8f2-42be-c690-6bf68f669daf"
      },
      "execution_count": null,
      "outputs": [
        {
          "output_type": "execute_result",
          "data": {
            "text/plain": [
              "tensor([ 9, 36, 81])"
            ]
          },
          "metadata": {},
          "execution_count": 20
        }
      ]
    },
    {
      "cell_type": "markdown",
      "source": [],
      "metadata": {
        "id": "FeXoFVqC3vgN"
      }
    },
    {
      "cell_type": "code",
      "source": [
        "tensor = torch.tensor([1, 2, 4])// torch.tensor([2, 3, 3])\n",
        "tensor"
      ],
      "metadata": {
        "colab": {
          "base_uri": "https://localhost:8080/"
        },
        "id": "Iy5Ozi2b29YF",
        "outputId": "f5ce3b7e-aa0e-4526-867c-17a9a978e14f"
      },
      "execution_count": null,
      "outputs": [
        {
          "output_type": "execute_result",
          "data": {
            "text/plain": [
              "tensor([0, 0, 1])"
            ]
          },
          "metadata": {},
          "execution_count": 21
        }
      ]
    },
    {
      "cell_type": "code",
      "source": [
        "torch.matmul(torch.rand(3, 2), torch.rand(2, 2))"
      ],
      "metadata": {
        "colab": {
          "base_uri": "https://localhost:8080/"
        },
        "id": "KqBEzLufE-P5",
        "outputId": "560f99a3-392e-4a3e-a341-ea49ceb5dd6b"
      },
      "execution_count": null,
      "outputs": [
        {
          "output_type": "execute_result",
          "data": {
            "text/plain": [
              "tensor([[0.2740, 0.6036],\n",
              "        [0.3744, 0.6555],\n",
              "        [0.1950, 0.2104]])"
            ]
          },
          "metadata": {},
          "execution_count": 22
        }
      ]
    },
    {
      "cell_type": "code",
      "source": [
        "%%time\n",
        "sh = torch.matmul(torch.rand(12323, 22), torch.rand(22, 2212))"
      ],
      "metadata": {
        "colab": {
          "base_uri": "https://localhost:8080/"
        },
        "id": "T5E05x2bFUVI",
        "outputId": "89e9556d-72dc-4eef-adf6-75cc64541834"
      },
      "execution_count": null,
      "outputs": [
        {
          "output_type": "stream",
          "name": "stdout",
          "text": [
            "CPU times: user 38.4 ms, sys: 84.3 ms, total: 123 ms\n",
            "Wall time: 132 ms\n"
          ]
        }
      ]
    },
    {
      "cell_type": "code",
      "source": [
        "# # store sh to a list\n",
        "# sh_list = sh.tolist()\n",
        "# # store sh_list to a file\n",
        "# with open('sh_list.txt', 'w') as f:\n",
        "#     print('hey')\n",
        "#     for item in sh_list:\n",
        "#         f.write(\"%s\\n\" % item)\n"
      ],
      "metadata": {
        "id": "lyXrSPlJGprV"
      },
      "execution_count": null,
      "outputs": []
    },
    {
      "cell_type": "code",
      "source": [
        "x = torch.arange(1, 10)"
      ],
      "metadata": {
        "id": "f0D5h2SKHRpM"
      },
      "execution_count": null,
      "outputs": []
    },
    {
      "cell_type": "code",
      "source": [
        "torch.mean(x.type(torch.float32)), x.type(torch.float32).mean()"
      ],
      "metadata": {
        "colab": {
          "base_uri": "https://localhost:8080/"
        },
        "id": "O1kI93bvNIAE",
        "outputId": "4dd19ee8-af37-42de-e2a1-ca95326d1c31"
      },
      "execution_count": null,
      "outputs": [
        {
          "output_type": "execute_result",
          "data": {
            "text/plain": [
              "(tensor(5.), tensor(5.))"
            ]
          },
          "metadata": {},
          "execution_count": 26
        }
      ]
    },
    {
      "cell_type": "code",
      "source": [
        "x.argmax(), x.argmin()"
      ],
      "metadata": {
        "colab": {
          "base_uri": "https://localhost:8080/"
        },
        "id": "AM1_ZZA2Nwqn",
        "outputId": "ac6e5ebd-88cc-4774-d0bc-8192b70bde48"
      },
      "execution_count": null,
      "outputs": [
        {
          "output_type": "execute_result",
          "data": {
            "text/plain": [
              "(tensor(8), tensor(0))"
            ]
          },
          "metadata": {},
          "execution_count": 27
        }
      ]
    },
    {
      "cell_type": "code",
      "source": [
        "print(x.shape)"
      ],
      "metadata": {
        "colab": {
          "base_uri": "https://localhost:8080/"
        },
        "id": "7QZb5P3dmfkn",
        "outputId": "21d02466-91c0-42d5-f5e3-b0a6b50207df"
      },
      "execution_count": null,
      "outputs": [
        {
          "output_type": "stream",
          "name": "stdout",
          "text": [
            "torch.Size([9])\n"
          ]
        }
      ]
    },
    {
      "cell_type": "code",
      "source": [
        "x_reshaped = x.reshape(1, 9)\n",
        "x_reshaped, x_reshaped.shape"
      ],
      "metadata": {
        "colab": {
          "base_uri": "https://localhost:8080/"
        },
        "id": "9BrtwLLrl-fI",
        "outputId": "ab6b002b-1df5-488f-c70f-a80e71803ebb"
      },
      "execution_count": null,
      "outputs": [
        {
          "output_type": "execute_result",
          "data": {
            "text/plain": [
              "(tensor([[1, 2, 3, 4, 5, 6, 7, 8, 9]]), torch.Size([1, 9]))"
            ]
          },
          "metadata": {},
          "execution_count": 29
        }
      ]
    },
    {
      "cell_type": "code",
      "source": [
        "stack = torch.stack([x, x-3, x+32, x], dim=0)\n",
        "stack"
      ],
      "metadata": {
        "colab": {
          "base_uri": "https://localhost:8080/"
        },
        "id": "zG3-1is9mSIS",
        "outputId": "cb36b1e8-e294-463b-e49e-67034d3326e5"
      },
      "execution_count": null,
      "outputs": [
        {
          "output_type": "execute_result",
          "data": {
            "text/plain": [
              "tensor([[ 1,  2,  3,  4,  5,  6,  7,  8,  9],\n",
              "        [-2, -1,  0,  1,  2,  3,  4,  5,  6],\n",
              "        [33, 34, 35, 36, 37, 38, 39, 40, 41],\n",
              "        [ 1,  2,  3,  4,  5,  6,  7,  8,  9]])"
            ]
          },
          "metadata": {},
          "execution_count": 30
        }
      ]
    },
    {
      "cell_type": "code",
      "source": [
        "ten1 = torch.rand(1, 1, 1, 1, 1, 1, 1, 1, 1, 1, 10)\n",
        "print(ten1)\n",
        "ten1.squeeze().unsqueeze(dim=1)"
      ],
      "metadata": {
        "colab": {
          "base_uri": "https://localhost:8080/"
        },
        "id": "K625sSoop-oj",
        "outputId": "3cb7f6d8-b24e-4bc0-c68f-b9a9aebdeba0"
      },
      "execution_count": null,
      "outputs": [
        {
          "output_type": "stream",
          "name": "stdout",
          "text": [
            "tensor([[[[[[[[[[[0.9656, 0.8333, 0.5898, 0.3981, 0.9826, 0.9306, 0.5905,\n",
            "                  0.7953, 0.1402, 0.5734]]]]]]]]]]])\n"
          ]
        },
        {
          "output_type": "execute_result",
          "data": {
            "text/plain": [
              "tensor([[0.9656],\n",
              "        [0.8333],\n",
              "        [0.5898],\n",
              "        [0.3981],\n",
              "        [0.9826],\n",
              "        [0.9306],\n",
              "        [0.5905],\n",
              "        [0.7953],\n",
              "        [0.1402],\n",
              "        [0.5734]])"
            ]
          },
          "metadata": {},
          "execution_count": 31
        }
      ]
    },
    {
      "cell_type": "code",
      "source": [
        "color = torch.rand(size=(224, 224, 3))\n",
        "color_permuted = color.permute(0, 2, 1)\n",
        "color_permuted.shape"
      ],
      "metadata": {
        "colab": {
          "base_uri": "https://localhost:8080/"
        },
        "id": "2u9wl7W0slrj",
        "outputId": "50ed87e7-d716-42be-c713-73eac47df54a"
      },
      "execution_count": null,
      "outputs": [
        {
          "output_type": "execute_result",
          "data": {
            "text/plain": [
              "torch.Size([224, 3, 224])"
            ]
          },
          "metadata": {},
          "execution_count": 32
        }
      ]
    },
    {
      "cell_type": "code",
      "source": [
        "color"
      ],
      "metadata": {
        "colab": {
          "base_uri": "https://localhost:8080/"
        },
        "id": "iequFQrYyP40",
        "outputId": "73961021-bd08-4d23-867c-21691e96e291"
      },
      "execution_count": null,
      "outputs": [
        {
          "output_type": "execute_result",
          "data": {
            "text/plain": [
              "tensor([[[0.9798, 0.8071, 0.1814],\n",
              "         [0.9874, 0.9595, 0.2156],\n",
              "         [0.3442, 0.9682, 0.4363],\n",
              "         ...,\n",
              "         [0.1078, 0.3282, 0.4014],\n",
              "         [0.5887, 0.6227, 0.8257],\n",
              "         [0.8210, 0.1204, 0.7801]],\n",
              "\n",
              "        [[0.9852, 0.6043, 0.6666],\n",
              "         [0.5861, 0.8489, 0.0887],\n",
              "         [0.6184, 0.7710, 0.4299],\n",
              "         ...,\n",
              "         [0.4310, 0.8345, 0.7586],\n",
              "         [0.2274, 0.2764, 0.3845],\n",
              "         [0.9538, 0.0084, 0.4742]],\n",
              "\n",
              "        [[0.5777, 0.7899, 0.6644],\n",
              "         [0.1540, 0.0546, 0.5774],\n",
              "         [0.5508, 0.3542, 0.6310],\n",
              "         ...,\n",
              "         [0.5745, 0.6871, 0.3323],\n",
              "         [0.1685, 0.3888, 0.6470],\n",
              "         [0.2152, 0.4344, 0.7912]],\n",
              "\n",
              "        ...,\n",
              "\n",
              "        [[0.6228, 0.5176, 0.1604],\n",
              "         [0.8341, 0.1133, 0.0851],\n",
              "         [0.7462, 0.4475, 0.9450],\n",
              "         ...,\n",
              "         [0.1850, 0.0518, 0.6082],\n",
              "         [0.6854, 0.0839, 0.3093],\n",
              "         [0.4704, 0.4889, 0.9839]],\n",
              "\n",
              "        [[0.7116, 0.9994, 0.0564],\n",
              "         [0.9722, 0.2697, 0.1098],\n",
              "         [0.5553, 0.2796, 0.5712],\n",
              "         ...,\n",
              "         [0.5809, 0.7605, 0.1505],\n",
              "         [0.8919, 0.1813, 0.2183],\n",
              "         [0.1905, 0.1921, 0.6551]],\n",
              "\n",
              "        [[0.8409, 0.2344, 0.0775],\n",
              "         [0.6886, 0.4975, 0.3075],\n",
              "         [0.2750, 0.1527, 0.6637],\n",
              "         ...,\n",
              "         [0.1601, 0.1273, 0.5660],\n",
              "         [0.7081, 0.2193, 0.2264],\n",
              "         [0.6536, 0.3534, 0.5904]]])"
            ]
          },
          "metadata": {},
          "execution_count": 33
        }
      ]
    },
    {
      "cell_type": "code",
      "source": [
        "color[0, 0, 0] = 728218\n",
        "color"
      ],
      "metadata": {
        "colab": {
          "base_uri": "https://localhost:8080/"
        },
        "id": "BhlXazP_uWu2",
        "outputId": "43b7ea3e-187d-44b4-cce1-cfe97f60e415"
      },
      "execution_count": null,
      "outputs": [
        {
          "output_type": "execute_result",
          "data": {
            "text/plain": [
              "tensor([[[7.2822e+05, 8.0712e-01, 1.8140e-01],\n",
              "         [9.8740e-01, 9.5952e-01, 2.1561e-01],\n",
              "         [3.4415e-01, 9.6816e-01, 4.3628e-01],\n",
              "         ...,\n",
              "         [1.0776e-01, 3.2819e-01, 4.0143e-01],\n",
              "         [5.8868e-01, 6.2267e-01, 8.2567e-01],\n",
              "         [8.2103e-01, 1.2043e-01, 7.8006e-01]],\n",
              "\n",
              "        [[9.8517e-01, 6.0435e-01, 6.6657e-01],\n",
              "         [5.8606e-01, 8.4892e-01, 8.8658e-02],\n",
              "         [6.1835e-01, 7.7101e-01, 4.2993e-01],\n",
              "         ...,\n",
              "         [4.3103e-01, 8.3454e-01, 7.5864e-01],\n",
              "         [2.2741e-01, 2.7644e-01, 3.8446e-01],\n",
              "         [9.5380e-01, 8.4375e-03, 4.7424e-01]],\n",
              "\n",
              "        [[5.7771e-01, 7.8990e-01, 6.6441e-01],\n",
              "         [1.5400e-01, 5.4551e-02, 5.7740e-01],\n",
              "         [5.5078e-01, 3.5419e-01, 6.3098e-01],\n",
              "         ...,\n",
              "         [5.7455e-01, 6.8709e-01, 3.3233e-01],\n",
              "         [1.6854e-01, 3.8882e-01, 6.4699e-01],\n",
              "         [2.1515e-01, 4.3439e-01, 7.9125e-01]],\n",
              "\n",
              "        ...,\n",
              "\n",
              "        [[6.2281e-01, 5.1757e-01, 1.6039e-01],\n",
              "         [8.3406e-01, 1.1331e-01, 8.5119e-02],\n",
              "         [7.4625e-01, 4.4747e-01, 9.4497e-01],\n",
              "         ...,\n",
              "         [1.8504e-01, 5.1836e-02, 6.0822e-01],\n",
              "         [6.8539e-01, 8.3930e-02, 3.0926e-01],\n",
              "         [4.7035e-01, 4.8894e-01, 9.8390e-01]],\n",
              "\n",
              "        [[7.1161e-01, 9.9943e-01, 5.6363e-02],\n",
              "         [9.7225e-01, 2.6969e-01, 1.0985e-01],\n",
              "         [5.5527e-01, 2.7960e-01, 5.7122e-01],\n",
              "         ...,\n",
              "         [5.8087e-01, 7.6047e-01, 1.5055e-01],\n",
              "         [8.9188e-01, 1.8133e-01, 2.1828e-01],\n",
              "         [1.9045e-01, 1.9215e-01, 6.5507e-01]],\n",
              "\n",
              "        [[8.4089e-01, 2.3444e-01, 7.7545e-02],\n",
              "         [6.8862e-01, 4.9752e-01, 3.0747e-01],\n",
              "         [2.7504e-01, 1.5267e-01, 6.6372e-01],\n",
              "         ...,\n",
              "         [1.6008e-01, 1.2730e-01, 5.6603e-01],\n",
              "         [7.0814e-01, 2.1926e-01, 2.2642e-01],\n",
              "         [6.5356e-01, 3.5336e-01, 5.9036e-01]]])"
            ]
          },
          "metadata": {},
          "execution_count": 34
        }
      ]
    },
    {
      "cell_type": "code",
      "source": [
        "x = torch.arange(1, 10)\n",
        "print(x)\n",
        "x = x.reshape(1, 1, 3, 3)\n",
        "print(x)"
      ],
      "metadata": {
        "colab": {
          "base_uri": "https://localhost:8080/"
        },
        "id": "e8QuRUy-zeba",
        "outputId": "02d8b06f-04fd-4f15-9d0f-c9a3d3122094"
      },
      "execution_count": null,
      "outputs": [
        {
          "output_type": "stream",
          "name": "stdout",
          "text": [
            "tensor([1, 2, 3, 4, 5, 6, 7, 8, 9])\n",
            "tensor([[[[1, 2, 3],\n",
            "          [4, 5, 6],\n",
            "          [7, 8, 9]]]])\n"
          ]
        }
      ]
    },
    {
      "cell_type": "code",
      "source": [
        "x[0][0][2][2]"
      ],
      "metadata": {
        "colab": {
          "base_uri": "https://localhost:8080/"
        },
        "id": "v4rp3-DG0YdF",
        "outputId": "3a8d25b1-1d54-45af-93ac-ccba159bc6bf"
      },
      "execution_count": null,
      "outputs": [
        {
          "output_type": "execute_result",
          "data": {
            "text/plain": [
              "tensor(9)"
            ]
          },
          "metadata": {},
          "execution_count": 36
        }
      ]
    },
    {
      "cell_type": "code",
      "source": [
        "# x = x.squeeze()"
      ],
      "metadata": {
        "id": "YqQfMP7pe6S5"
      },
      "execution_count": null,
      "outputs": []
    },
    {
      "cell_type": "code",
      "source": [
        "x[0, 0, 0, 0]"
      ],
      "metadata": {
        "colab": {
          "base_uri": "https://localhost:8080/"
        },
        "id": "o9A5Z7P51CzC",
        "outputId": "68eebc88-d309-4084-b338-f70910836a81"
      },
      "execution_count": null,
      "outputs": [
        {
          "output_type": "execute_result",
          "data": {
            "text/plain": [
              "tensor(1)"
            ]
          },
          "metadata": {},
          "execution_count": 38
        }
      ]
    },
    {
      "cell_type": "code",
      "source": [
        "import torch\n",
        "import numpy as np\n",
        "array = np.arange(1.0, 8.0)\n",
        "tsr = torch.from_numpy(array)\n",
        "array, tsr"
      ],
      "metadata": {
        "colab": {
          "base_uri": "https://localhost:8080/"
        },
        "id": "lWfVuhaTg2EN",
        "outputId": "98edfbfd-bff8-4980-eb0b-9536b28c2bb3"
      },
      "execution_count": null,
      "outputs": [
        {
          "output_type": "execute_result",
          "data": {
            "text/plain": [
              "(array([1., 2., 3., 4., 5., 6., 7.]),\n",
              " tensor([1., 2., 3., 4., 5., 6., 7.], dtype=torch.float64))"
            ]
          },
          "metadata": {},
          "execution_count": 39
        }
      ]
    },
    {
      "cell_type": "code",
      "source": [
        "seed = 1213\n",
        "torch.manual_seed(seed)\n",
        "random_tensor_C = torch.rand(3, 4)\n",
        "torch.manual_seed(seed)\n",
        "random_tensor_D = torch.rand(3, 4)\n",
        "print(random_tensor_C, random_tensor_D)\n",
        "print(random_tensor_C == random_tensor_D)"
      ],
      "metadata": {
        "colab": {
          "base_uri": "https://localhost:8080/"
        },
        "id": "Dz42T5cwr9RS",
        "outputId": "b13f4963-6186-469a-e0cf-31446fef5347"
      },
      "execution_count": null,
      "outputs": [
        {
          "output_type": "stream",
          "name": "stdout",
          "text": [
            "tensor([[0.6160, 0.7029, 0.0241, 0.6634],\n",
            "        [0.1593, 0.7495, 0.3983, 0.9205],\n",
            "        [0.5717, 0.3127, 0.9960, 0.4884]]) tensor([[0.6160, 0.7029, 0.0241, 0.6634],\n",
            "        [0.1593, 0.7495, 0.3983, 0.9205],\n",
            "        [0.5717, 0.3127, 0.9960, 0.4884]])\n",
            "tensor([[True, True, True, True],\n",
            "        [True, True, True, True],\n",
            "        [True, True, True, True]])\n"
          ]
        }
      ]
    },
    {
      "cell_type": "code",
      "source": [
        "x[0, 0]"
      ],
      "metadata": {
        "colab": {
          "base_uri": "https://localhost:8080/"
        },
        "id": "nl7fVdEBb6lw",
        "outputId": "095b7804-a533-4620-e872-cebe164b8929"
      },
      "execution_count": null,
      "outputs": [
        {
          "output_type": "execute_result",
          "data": {
            "text/plain": [
              "tensor([[1, 2, 3],\n",
              "        [4, 5, 6],\n",
              "        [7, 8, 9]])"
            ]
          },
          "metadata": {},
          "execution_count": 41
        }
      ]
    },
    {
      "cell_type": "code",
      "source": [
        "!nvidia-smi"
      ],
      "metadata": {
        "colab": {
          "base_uri": "https://localhost:8080/"
        },
        "id": "fw9LBxack3WF",
        "outputId": "84d815e1-3264-487b-bf24-7e7137b39ec7"
      },
      "execution_count": null,
      "outputs": [
        {
          "output_type": "stream",
          "name": "stdout",
          "text": [
            "Mon Jul 29 17:41:33 2024       \n",
            "+---------------------------------------------------------------------------------------+\n",
            "| NVIDIA-SMI 535.104.05             Driver Version: 535.104.05   CUDA Version: 12.2     |\n",
            "|-----------------------------------------+----------------------+----------------------+\n",
            "| GPU  Name                 Persistence-M | Bus-Id        Disp.A | Volatile Uncorr. ECC |\n",
            "| Fan  Temp   Perf          Pwr:Usage/Cap |         Memory-Usage | GPU-Util  Compute M. |\n",
            "|                                         |                      |               MIG M. |\n",
            "|=========================================+======================+======================|\n",
            "|   0  Tesla T4                       Off | 00000000:00:04.0 Off |                    0 |\n",
            "| N/A   44C    P8               9W /  70W |      3MiB / 15360MiB |      0%      Default |\n",
            "|                                         |                      |                  N/A |\n",
            "+-----------------------------------------+----------------------+----------------------+\n",
            "                                                                                         \n",
            "+---------------------------------------------------------------------------------------+\n",
            "| Processes:                                                                            |\n",
            "|  GPU   GI   CI        PID   Type   Process name                            GPU Memory |\n",
            "|        ID   ID                                                             Usage      |\n",
            "|=======================================================================================|\n",
            "|  No running processes found                                                           |\n",
            "+---------------------------------------------------------------------------------------+\n"
          ]
        }
      ]
    },
    {
      "cell_type": "code",
      "source": [
        "import torch\n",
        "torch.cuda.is_available()"
      ],
      "metadata": {
        "colab": {
          "base_uri": "https://localhost:8080/"
        },
        "id": "kD8na_ogjzqO",
        "outputId": "328d0e6c-5c6a-4886-8880-f281a0d701df"
      },
      "execution_count": null,
      "outputs": [
        {
          "output_type": "execute_result",
          "data": {
            "text/plain": [
              "True"
            ]
          },
          "metadata": {},
          "execution_count": 2
        }
      ]
    },
    {
      "cell_type": "code",
      "source": [
        "device = 'cuda'"
      ],
      "metadata": {
        "id": "3AzpFgh3oyTH"
      },
      "execution_count": null,
      "outputs": []
    },
    {
      "cell_type": "code",
      "source": [
        "torch.cuda.device_count()"
      ],
      "metadata": {
        "colab": {
          "base_uri": "https://localhost:8080/"
        },
        "id": "lu6PUJIno1xu",
        "outputId": "2625122c-6726-4c75-dd2d-8cc149723402"
      },
      "execution_count": null,
      "outputs": [
        {
          "output_type": "execute_result",
          "data": {
            "text/plain": [
              "1"
            ]
          },
          "metadata": {},
          "execution_count": 7
        }
      ]
    },
    {
      "cell_type": "code",
      "source": [
        "tensor = torch.tensor([12, 123, 34], device=device)\n",
        "tensor"
      ],
      "metadata": {
        "colab": {
          "base_uri": "https://localhost:8080/"
        },
        "id": "zKR8zVKfo50V",
        "outputId": "657a8bc7-022e-4a5b-df9a-5f62519f54c6"
      },
      "execution_count": null,
      "outputs": [
        {
          "output_type": "execute_result",
          "data": {
            "text/plain": [
              "tensor([ 12, 123,  34], device='cuda:0')"
            ]
          },
          "metadata": {},
          "execution_count": 8
        }
      ]
    },
    {
      "cell_type": "code",
      "source": [
        "tensor.cpu().numpy()"
      ],
      "metadata": {
        "colab": {
          "base_uri": "https://localhost:8080/"
        },
        "id": "TgaW0mnApkXv",
        "outputId": "7cfff57a-95e0-466e-d2f8-c94ea3157e3e"
      },
      "execution_count": null,
      "outputs": [
        {
          "output_type": "execute_result",
          "data": {
            "text/plain": [
              "array([ 12, 123,  34])"
            ]
          },
          "metadata": {},
          "execution_count": 12
        }
      ]
    },
    {
      "cell_type": "code",
      "source": [],
      "metadata": {
        "id": "Tb4qVvGJp53X"
      },
      "execution_count": null,
      "outputs": []
    },
    {
      "cell_type": "code",
      "source": [],
      "metadata": {
        "id": "FdF2jV5Jp50F"
      },
      "execution_count": null,
      "outputs": []
    },
    {
      "cell_type": "code",
      "source": [],
      "metadata": {
        "id": "cB7vEW3Rp5xD"
      },
      "execution_count": null,
      "outputs": []
    },
    {
      "cell_type": "code",
      "source": [],
      "metadata": {
        "id": "r6cpvV77p5uD"
      },
      "execution_count": null,
      "outputs": []
    },
    {
      "cell_type": "code",
      "source": [],
      "metadata": {
        "id": "QvKiek2jp5qY"
      },
      "execution_count": null,
      "outputs": []
    },
    {
      "cell_type": "code",
      "source": [],
      "metadata": {
        "id": "D02dnwnyp5nh"
      },
      "execution_count": null,
      "outputs": []
    },
    {
      "cell_type": "code",
      "source": [],
      "metadata": {
        "id": "FTxKi3hdp5kS"
      },
      "execution_count": null,
      "outputs": []
    },
    {
      "cell_type": "code",
      "source": [],
      "metadata": {
        "id": "-BUrO6qhp5hf"
      },
      "execution_count": null,
      "outputs": []
    },
    {
      "cell_type": "code",
      "source": [],
      "metadata": {
        "id": "mm2_-qE3p5eU"
      },
      "execution_count": null,
      "outputs": []
    },
    {
      "cell_type": "code",
      "source": [
        "import torch\n",
        "import torch.nn as nn\n",
        "import matplotlib.pyplot as plt"
      ],
      "metadata": {
        "id": "8btcXsL0q6TF"
      },
      "execution_count": 350,
      "outputs": []
    },
    {
      "cell_type": "code",
      "source": [
        "# torch.rand(1, 100)"
      ],
      "metadata": {
        "id": "EZkZpXXFrXMZ"
      },
      "execution_count": 351,
      "outputs": []
    },
    {
      "cell_type": "code",
      "source": [
        "weight = 0.7\n",
        "bias = 0.3\n",
        "\n",
        "start = 0\n",
        "end = 1\n",
        "step = 0.02\n",
        "x = torch.arange(0, 3, 0.03).unsqueeze(dim=1)\n",
        "for i in x:\n",
        "  print(int(str(i.item()).split('.')[1][0])%2)\n",
        "  if int(str(i.item()).split('.')[1][0])%2:\n",
        "    i+=5\n",
        "y = weight * x + bias\n"
      ],
      "metadata": {
        "id": "uYhcDNeCtRtp",
        "colab": {
          "base_uri": "https://localhost:8080/"
        },
        "outputId": "b1e6f1f4-7252-480a-bb14-7a247dc490e9"
      },
      "execution_count": 352,
      "outputs": [
        {
          "output_type": "stream",
          "name": "stdout",
          "text": [
            "0\n",
            "0\n",
            "0\n",
            "0\n",
            "1\n",
            "1\n",
            "1\n",
            "0\n",
            "0\n",
            "0\n",
            "0\n",
            "1\n",
            "1\n",
            "1\n",
            "0\n",
            "0\n",
            "0\n",
            "1\n",
            "1\n",
            "1\n",
            "1\n",
            "0\n",
            "0\n",
            "0\n",
            "1\n",
            "1\n",
            "1\n",
            "0\n",
            "0\n",
            "0\n",
            "1\n",
            "1\n",
            "1\n",
            "1\n",
            "0\n",
            "0\n",
            "0\n",
            "1\n",
            "1\n",
            "1\n",
            "0\n",
            "0\n",
            "0\n",
            "0\n",
            "1\n",
            "1\n",
            "1\n",
            "0\n",
            "0\n",
            "0\n",
            "1\n",
            "1\n",
            "1\n",
            "1\n",
            "0\n",
            "0\n",
            "0\n",
            "1\n",
            "1\n",
            "1\n",
            "1\n",
            "0\n",
            "0\n",
            "0\n",
            "1\n",
            "1\n",
            "1\n",
            "0\n",
            "0\n",
            "0\n",
            "0\n",
            "1\n",
            "1\n",
            "1\n",
            "0\n",
            "0\n",
            "0\n",
            "1\n",
            "1\n",
            "1\n",
            "0\n",
            "0\n",
            "0\n",
            "0\n",
            "1\n",
            "1\n",
            "1\n",
            "0\n",
            "0\n",
            "0\n",
            "1\n",
            "1\n",
            "1\n",
            "1\n",
            "0\n",
            "0\n",
            "0\n",
            "1\n",
            "1\n",
            "1\n"
          ]
        }
      ]
    },
    {
      "cell_type": "code",
      "source": [],
      "metadata": {
        "id": "RNU-KB13OdzU"
      },
      "execution_count": 352,
      "outputs": []
    },
    {
      "cell_type": "code",
      "source": [
        "train_split = int(.8 * len(x))\n",
        "x_train, y_train = x[:train_split], y[:train_split]\n",
        "x_test, y_test = x[train_split:], y[train_split:]\n",
        "len(x_test), len(y_test)"
      ],
      "metadata": {
        "colab": {
          "base_uri": "https://localhost:8080/"
        },
        "id": "P0VnEuG_lxwW",
        "outputId": "3d9d8cfe-c6eb-4ccc-fb2d-3d4743ebaad6"
      },
      "execution_count": 353,
      "outputs": [
        {
          "output_type": "execute_result",
          "data": {
            "text/plain": [
              "(20, 20)"
            ]
          },
          "metadata": {},
          "execution_count": 353
        }
      ]
    },
    {
      "cell_type": "code",
      "source": [
        "def plot_predictions(train_data=x_train,\n",
        "                     train_labels=y_train,\n",
        "                     test_data=x_test,\n",
        "                     test_labels=y_test,\n",
        "                     predictions=None):\n",
        "  \"\"\"\n",
        "  Plots training data, test data and compares predictions.\n",
        "  \"\"\"\n",
        "  plt.figure(figsize=(10, 7))\n",
        "\n",
        "  # Plot training data in blue\n",
        "  plt.scatter(train_data, train_labels, c=\"b\", s=4, label=\"Training data\")\n",
        "\n",
        "  # Plot test data in green\n",
        "  plt.scatter(test_data, test_labels, c=\"g\", s=4, label=\"Testing data\")\n",
        "\n",
        "  if predictions is not None:\n",
        "    # Plot the predictions in red (predictions were made on the test data)\n",
        "    plt.scatter(test_data, predictions, c=\"r\", s=4, label=\"Predictions\")\n",
        "\n",
        "  # Show the legend\n",
        "  plt.legend(prop={\"size\": 14});\n",
        "plot_predictions()"
      ],
      "metadata": {
        "id": "IrTXgZy4tCcE",
        "colab": {
          "base_uri": "https://localhost:8080/",
          "height": 599
        },
        "outputId": "020c69b7-6181-40ee-8c8f-cb223fd820f7"
      },
      "execution_count": 354,
      "outputs": [
        {
          "output_type": "display_data",
          "data": {
            "text/plain": [
              "<Figure size 1000x700 with 1 Axes>"
            ],
            "image/png": "[encoded data removed]"
          },
          "metadata": {}
        }
      ]
    },
    {
      "cell_type": "code",
      "source": [
        "class LinearRegressionModel(nn.Module):\n",
        "  def __init__(self):\n",
        "    super().__init__()\n",
        "    self.weights = nn.Parameter(torch.randn(1,\n",
        "                                            requires_grad=True,\n",
        "                                            dtype=torch.float\n",
        "    ))\n",
        "    self.bias = nn.Parameter(torch.randn(1,\n",
        "                                         requires_grad=True,\n",
        "                                         dtype=float\n",
        "    ))\n",
        "  def forward(self, x: torch.tensor) -> torch.Tensor:\n",
        "    return self.weights * x + self.bias\n"
      ],
      "metadata": {
        "id": "JtrRwm_Qllb7"
      },
      "execution_count": 355,
      "outputs": []
    },
    {
      "cell_type": "code",
      "source": [
        "torch.manual_seed(12)\n",
        "model_0 = LinearRegressionModel()\n",
        "\n",
        "list(model_0.parameters())\n"
      ],
      "metadata": {
        "id": "G--eu7IgvDmC",
        "colab": {
          "base_uri": "https://localhost:8080/"
        },
        "outputId": "40898d24-dc32-4b02-d4af-7542b5970b2a"
      },
      "execution_count": 356,
      "outputs": [
        {
          "output_type": "execute_result",
          "data": {
            "text/plain": [
              "[Parameter containing:\n",
              " tensor([-0.2138], requires_grad=True),\n",
              " Parameter containing:\n",
              " tensor([-1.3780], dtype=torch.float64, requires_grad=True)]"
            ]
          },
          "metadata": {},
          "execution_count": 356
        }
      ]
    },
    {
      "cell_type": "code",
      "source": [
        "model_0.state_dict()"
      ],
      "metadata": {
        "colab": {
          "base_uri": "https://localhost:8080/"
        },
        "id": "qArguoPN_Tpy",
        "outputId": "a2cc354f-69c6-4709-d1c4-d96b3b5761e8"
      },
      "execution_count": 357,
      "outputs": [
        {
          "output_type": "execute_result",
          "data": {
            "text/plain": [
              "OrderedDict([('weights', tensor([-0.2138])),\n",
              "             ('bias', tensor([-1.3780], dtype=torch.float64))])"
            ]
          },
          "metadata": {},
          "execution_count": 357
        }
      ]
    },
    {
      "cell_type": "code",
      "source": [
        "with torch.inference_mode():\n",
        "  y_preds = model_0(x_test)\n",
        "\n",
        "y_preds"
      ],
      "metadata": {
        "colab": {
          "base_uri": "https://localhost:8080/"
        },
        "id": "-L77rZ_-BlzW",
        "outputId": "d2f4270f-6939-4b59-e257-a3e1fc271586"
      },
      "execution_count": 358,
      "outputs": [
        {
          "output_type": "execute_result",
          "data": {
            "text/plain": [
              "tensor([[-1.8911],\n",
              "        [-1.8975],\n",
              "        [-1.9039],\n",
              "        [-1.9104],\n",
              "        [-2.9858],\n",
              "        [-2.9923],\n",
              "        [-2.9987],\n",
              "        [-1.9360],\n",
              "        [-1.9424],\n",
              "        [-1.9488],\n",
              "        [-3.0243],\n",
              "        [-3.0307],\n",
              "        [-3.0372],\n",
              "        [-3.0436],\n",
              "        [-1.9809],\n",
              "        [-1.9873],\n",
              "        [-1.9937],\n",
              "        [-3.0692],\n",
              "        [-3.0756],\n",
              "        [-3.0821]], dtype=torch.float64)"
            ]
          },
          "metadata": {},
          "execution_count": 358
        }
      ]
    },
    {
      "cell_type": "code",
      "source": [
        "y_test"
      ],
      "metadata": {
        "colab": {
          "base_uri": "https://localhost:8080/"
        },
        "id": "elpcP_6DfhVk",
        "outputId": "a146b52b-7d14-4531-b0c7-339d818c567c"
      },
      "execution_count": 359,
      "outputs": [
        {
          "output_type": "execute_result",
          "data": {
            "text/plain": [
              "tensor([[1.9800],\n",
              "        [2.0010],\n",
              "        [2.0220],\n",
              "        [2.0430],\n",
              "        [5.5640],\n",
              "        [5.5850],\n",
              "        [5.6060],\n",
              "        [2.1270],\n",
              "        [2.1480],\n",
              "        [2.1690],\n",
              "        [5.6900],\n",
              "        [5.7110],\n",
              "        [5.7320],\n",
              "        [5.7530],\n",
              "        [2.2740],\n",
              "        [2.2950],\n",
              "        [2.3160],\n",
              "        [5.8370],\n",
              "        [5.8580],\n",
              "        [5.8790]])"
            ]
          },
          "metadata": {},
          "execution_count": 359
        }
      ]
    },
    {
      "cell_type": "code",
      "source": [
        "plot_predictions(predictions=y_preds)"
      ],
      "metadata": {
        "colab": {
          "base_uri": "https://localhost:8080/",
          "height": 599
        },
        "id": "wvaDQzBNf064",
        "outputId": "6e10df74-afd1-4f74-d2b6-9a4f0a4020a8"
      },
      "execution_count": 360,
      "outputs": [
        {
          "output_type": "display_data",
          "data": {
            "text/plain": [
              "<Figure size 1000x700 with 1 Axes>"
            ],
            "image/png": "[encoded data removed]"
          },
          "metadata": {}
        }
      ]
    },
    {
      "cell_type": "code",
      "source": [
        "list(model_0.parameters())"
      ],
      "metadata": {
        "colab": {
          "base_uri": "https://localhost:8080/"
        },
        "id": "IBGKR8XMis5W",
        "outputId": "9d74ebb9-40cf-42e8-9cf2-206b24b22b14"
      },
      "execution_count": 361,
      "outputs": [
        {
          "output_type": "execute_result",
          "data": {
            "text/plain": [
              "[Parameter containing:\n",
              " tensor([-0.2138], requires_grad=True),\n",
              " Parameter containing:\n",
              " tensor([-1.3780], dtype=torch.float64, requires_grad=True)]"
            ]
          },
          "metadata": {},
          "execution_count": 361
        }
      ]
    },
    {
      "cell_type": "code",
      "source": [
        "model_0.state_dict()"
      ],
      "metadata": {
        "colab": {
          "base_uri": "https://localhost:8080/"
        },
        "id": "KVfuBtzmisvB",
        "outputId": "8429d156-6d4d-4cbc-eab5-cf180eb2995a"
      },
      "execution_count": 362,
      "outputs": [
        {
          "output_type": "execute_result",
          "data": {
            "text/plain": [
              "OrderedDict([('weights', tensor([-0.2138])),\n",
              "             ('bias', tensor([-1.3780], dtype=torch.float64))])"
            ]
          },
          "metadata": {},
          "execution_count": 362
        }
      ]
    },
    {
      "cell_type": "code",
      "source": [
        "loss_fn = nn.L1Loss()\n",
        "optimizer = torch.optim.SGD(params=model_0.parameters(),\n",
        "                            lr=0.01)\n"
      ],
      "metadata": {
        "id": "x__4mTW5isjk"
      },
      "execution_count": 363,
      "outputs": []
    },
    {
      "cell_type": "code",
      "source": [
        "num = 1"
      ],
      "metadata": {
        "id": "BBoXLcEzMl0B"
      },
      "execution_count": 364,
      "outputs": []
    },
    {
      "cell_type": "code",
      "source": [
        "epoch = 10000\n",
        "for epoch in range(epoch):\n",
        "  model_0.train()\n",
        "\n",
        "  y_pred = model_0(x_train)\n",
        "\n",
        "  loss = loss_fn(y_pred, y_train)\n",
        "\n",
        "  optimizer.zero_grad()\n",
        "\n",
        "  loss.backward()\n",
        "\n",
        "  optimizer.step()\n",
        "\n",
        "  model_0.eval()\n",
        "num+=epoch\n",
        "with torch.inference_mode():\n",
        "  y_preds = model_0(x_test)\n",
        "\n",
        "print(num)\n",
        "print(f\"loss: {loss}\")\n",
        "print(model_0.state_dict())\n",
        "plot_predictions(predictions=y_preds)"
      ],
      "metadata": {
        "id": "Nz_t0MpJnvmS",
        "colab": {
          "base_uri": "https://localhost:8080/",
          "height": 654
        },
        "outputId": "5ab119ec-ce59-4b63-f2b9-4137cfdc4ab6"
      },
      "execution_count": 365,
      "outputs": [
        {
          "output_type": "stream",
          "name": "stdout",
          "text": [
            "10000\n",
            "loss: 0.08327131010870356\n",
            "OrderedDict([('weights', tensor([0.6857])), ('bias', tensor([0.2900], dtype=torch.float64))])\n"
          ]
        },
        {
          "output_type": "display_data",
          "data": {
            "text/plain": [
              "<Figure size 1000x700 with 1 Axes>"
            ],
            "image/png": "[encoded data removed]"
          },
          "metadata": {}
        }
      ]
    },
    {
      "cell_type": "code",
      "source": [
        "with torch.inference_mode():\n",
        "  y_preds = model_0(x_test)\n",
        "\n",
        "y_preds"
      ],
      "metadata": {
        "colab": {
          "base_uri": "https://localhost:8080/"
        },
        "id": "Givz_PredRkw",
        "outputId": "c9a0cd78-36f4-4432-fa50-88ab7328e4dc"
      },
      "execution_count": 366,
      "outputs": [
        {
          "output_type": "execute_result",
          "data": {
            "text/plain": [
              "tensor([[1.9358],\n",
              "        [1.9564],\n",
              "        [1.9770],\n",
              "        [1.9975],\n",
              "        [5.4468],\n",
              "        [5.4674],\n",
              "        [5.4879],\n",
              "        [2.0798],\n",
              "        [2.1004],\n",
              "        [2.1210],\n",
              "        [5.5702],\n",
              "        [5.5908],\n",
              "        [5.6114],\n",
              "        [5.6319],\n",
              "        [2.2238],\n",
              "        [2.2444],\n",
              "        [2.2650],\n",
              "        [5.7142],\n",
              "        [5.7348],\n",
              "        [5.7554]], dtype=torch.float64)"
            ]
          },
          "metadata": {},
          "execution_count": 366
        }
      ]
    },
    {
      "cell_type": "code",
      "source": [],
      "metadata": {
        "id": "h-G_4KYIisVX"
      },
      "execution_count": 366,
      "outputs": []
    }
  ]
}